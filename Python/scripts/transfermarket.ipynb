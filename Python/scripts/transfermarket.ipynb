{
 "cells": [
  {
   "cell_type": "code",
   "execution_count": null,
   "id": "f31d1b82",
   "metadata": {},
   "outputs": [],
   "source": [
    "import requests\n",
    "from bs4 import BeautifulSoup\n",
    "import os"
   ]
  },
  {
   "cell_type": "code",
   "execution_count": 12,
   "id": "fa4a887b",
   "metadata": {},
   "outputs": [],
   "source": [
    "# url = \"https://www.transfermarkt.es/vinotinto-fc/kader/verein/25958/saison_id/2024/plus/1\"\n",
    "url = \"https://www.transfermarkt.co/gimnasia-y-esgrima-de-mendoza/kader/verein/14687/saison_id/2024\"\n",
    "\n",
    "headers = {\n",
    "    \"User-Agent\": \"Mozilla/5.0 (Windows NT 10.0; Win64; x64) AppleWebKit/537.36 (KHTML, like Gecko) Chrome/114.0.0.0 Safari/537.36\",\n",
    "    \"Accept-Language\": \"es-ES,es;q=0.9,en;q=0.8\",\n",
    "}\n",
    "\n",
    "response = requests.get(url, headers=headers)\n",
    "if response.status_code != 200:\n",
    "    print(f\"❌ Error al acceder a la página. Código: {response.status_code}\")\n",
    "    exit()\n"
   ]
  },
  {
   "cell_type": "code",
   "execution_count": null,
   "id": "0c072e31",
   "metadata": {},
   "outputs": [],
   "source": [
    "\n",
    "soup = BeautifulSoup(response.text, \"html.parser\")\n",
    "output_folder = \"imagenes_jugadores\"\n",
    "os.makedirs(output_folder, exist_ok=True)\n",
    "\n",
    "# Buscar cada fila de jugador en la tabla\n",
    "rows = soup.select(\"table.items tbody tr\")\n",
    "\n",
    "for row in rows:\n",
    "    img_tag = row.select_one(\"img.bilderrahmen-fixed\")\n",
    "    name_tag = row.select_one(\"td.hauptlink a\")\n",
    "    country_tag = row.select_one(\"td.zentriert img.flaggenrahmen\")\n",
    "\n",
    "    if img_tag and name_tag and country_tag:\n",
    "        img_url = img_tag[\"data-src\"].split(\"?\")[0]  # Limpiar query\n",
    "        player_name = name_tag.text.strip()\n",
    "        country = country_tag[\"alt\"].upper().replace(\" \", \"_\")\n",
    "        name = player_name.upper().replace(\" \", \"_\")\n",
    "\n",
    "        filename = f\"{country}_{name}.png\"\n",
    "        filepath = os.path.join(\"imagenes_jugadores\", filename)\n",
    "\n",
    "        # Descargar la imagen\n",
    "        response = requests.get(img_url)\n",
    "        if response.status_code == 200:\n",
    "            with open(filepath, \"wb\") as f:\n",
    "                f.write(response.content)\n",
    "            print(f\"Guardado: {filename}\")\n",
    "        else:\n",
    "            print(f\"No se pudo descargar: {img_url}\")"
   ]
  },
  {
   "cell_type": "code",
   "execution_count": 13,
   "id": "9c69e8b6",
   "metadata": {},
   "outputs": [
    {
     "name": "stdout",
     "output_type": "stream",
     "text": [
      "Guardado: ARGENTINA_L_PETRUCHI.png\n",
      "Guardado: ARGENTINA_F_JUAN.png\n",
      "Guardado: ARGENTINA_C_RIGAMONTI.png\n",
      "Guardado: ARGENTINA_I_GONZÁLEZ.png\n",
      "Guardado: ARGENTINA_D_MONDINO.png\n",
      "Guardado: ARGENTINA_L_CARRERA.png\n",
      "Guardado: ARGENTINA_H_PANIAGUA.png\n",
      "Guardado: ARGENTINA_A_POZA.png\n",
      "Guardado: ARGENTINA_F_SAAVEDRA.png\n",
      "Guardado: ARGENTINA_M_RECALDE.png\n",
      "Guardado: ARGENTINA_F_NADALÍN.png\n",
      "Guardado: ARGENTINA_I_CORTÉZ.png\n",
      "Guardado: ARGENTINA_F_TORRES.png\n",
      "Guardado: ARGENTINA_M_MUÑOZ.png\n",
      "Guardado: ARGENTINA_F_ANTONINI.png\n",
      "Guardado: ARGENTINA_I_ANTONIO.png\n",
      "Guardado: ARGENTINA_N_BARBOZA.png\n",
      "Guardado: ARGENTINA_L_BUSTOS.png\n",
      "Guardado: ARGENTINA_E_GAGGI.png\n",
      "Guardado: ARGENTINA_J_PUCH.png\n",
      "Guardado: ARGENTINA_D_MOLINA.png\n",
      "Guardado: ARGENTINA_F_LENCIONI.png\n",
      "Guardado: ARGENTINA_B_ANDRADA.png\n",
      "Guardado: ARGENTINA_G_ESPÓSITO.png\n",
      "Guardado: ARGENTINA_L_CINGOLANI.png\n",
      "Guardado: ARGENTINA_N_ROMANO.png\n",
      "Guardado: ARGENTINA_N_FERREYRA.png\n",
      "Guardado: ARGENTINA_N_SERVETTO.png\n",
      "Guardado: ARGENTINA_M_GALEANO.png\n",
      "Guardado: ARGENTINA_J_MOYA.png\n"
     ]
    }
   ],
   "source": [
    "soup = BeautifulSoup(response.text, \"html.parser\")\n",
    "output_folder = \"imagenes_jugadores\"\n",
    "os.makedirs(output_folder, exist_ok=True)\n",
    "\n",
    "# Buscar cada fila de jugador en la tabla\n",
    "rows = soup.select(\"table.items tbody tr\")\n",
    "\n",
    "for row in rows:\n",
    "    img_tag = row.select_one(\"img.bilderrahmen-fixed\")\n",
    "    name_tag = row.select_one(\"td.hauptlink a\")\n",
    "    country_tag = row.select_one(\"td.zentriert img.flaggenrahmen\")\n",
    "\n",
    "    if img_tag and name_tag and country_tag:\n",
    "        img_url = img_tag[\"data-src\"].split(\"?\")[0]  # Limpiar query\n",
    "        player_name = name_tag.text.strip()\n",
    "        country = country_tag[\"alt\"].upper().replace(\" \", \"_\")\n",
    "\n",
    "        # Procesar nombre: ALAN AGUIRRE → A_AGUIRRE\n",
    "        name_parts = player_name.strip().upper().split()\n",
    "        if len(name_parts) >= 2:\n",
    "            name_formatted = f\"{name_parts[0][0]}_{name_parts[-1]}\"\n",
    "        else:\n",
    "            name_formatted = name_parts[0]\n",
    "\n",
    "        filename = f\"{country}_{name_formatted}.png\"\n",
    "        filepath = os.path.join(output_folder, filename)\n",
    "\n",
    "        # Descargar la imagen\n",
    "        response = requests.get(img_url)\n",
    "        if response.status_code == 200:\n",
    "            with open(filepath, \"wb\") as f:\n",
    "                f.write(response.content)\n",
    "            print(f\"Guardado: {filename}\")\n",
    "        else:\n",
    "            print(f\"No se pudo descargar: {img_url}\")"
   ]
  }
 ],
 "metadata": {
  "kernelspec": {
   "display_name": "Python 3",
   "language": "python",
   "name": "python3"
  },
  "language_info": {
   "codemirror_mode": {
    "name": "ipython",
    "version": 3
   },
   "file_extension": ".py",
   "mimetype": "text/x-python",
   "name": "python",
   "nbconvert_exporter": "python",
   "pygments_lexer": "ipython3",
   "version": "3.10.0"
  }
 },
 "nbformat": 4,
 "nbformat_minor": 5
}
