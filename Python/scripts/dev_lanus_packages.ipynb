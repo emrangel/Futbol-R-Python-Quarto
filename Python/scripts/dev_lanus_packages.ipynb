{
 "cells": [
  {
   "cell_type": "code",
   "execution_count": 11,
   "id": "cadcd8a1",
   "metadata": {},
   "outputs": [],
   "source": [
    "import LanusStats as ls\n",
    "import pandas as pd\n"
   ]
  },
  {
   "cell_type": "code",
   "execution_count": 16,
   "id": "dd69bcb2",
   "metadata": {},
   "outputs": [],
   "source": [
    "import LanusStats as ls  \n",
    "sofascore = ls.SofaScore()"
   ]
  },
  {
   "cell_type": "code",
   "execution_count": 48,
   "id": "bcb95dcf",
   "metadata": {},
   "outputs": [
    {
     "name": "stdout",
     "output_type": "stream",
     "text": [
      "dict_keys(['Fbref', 'Sofascore', '365Scores', 'Fotmob', 'Transfermarkt', 'DataFactory'])\n",
      "['Argentina Liga Profesional', 'Argentina Copa de la Liga Profesional', 'Argentina Primera Nacional', 'Brasileirão Série A', 'Bolivia Division Profesional', 'Chile Primera Division', 'Colombia Primera A Apertura', 'Colombia Primera A Clausura', 'Ecuador LigaPro', 'Mexico LigaMX Apertura', 'Mexico LigaMX Clausura', 'Peru Liga 1', 'Uruguay Primera Division', 'Venezuela Primera Division', 'World Cup', 'Euros', 'Copa America', 'Premier League', 'La Liga', 'Bundesliga', 'Serie A', 'Ligue 1', 'Copa Libertadores', 'Copa Sudamericana', 'MLS', 'Saudi Pro League', 'J1 League', 'NSWL', 'USL Championship', 'La Liga 2']\n",
      "{'id': 11539, 'seasons': {'2022': 40320, '2023': 48283, '2024': 57374, '2025': 70681}}\n"
     ]
    }
   ],
   "source": [
    "pages = ls.get_available_pages()\n",
    "print(pages)\n",
    "leagues = ls.get_available_leagues('Sofascore')\n",
    "print(leagues)\n",
    "seasons = ls.get_available_season_for_leagues('Sofascore', 'Colombia Primera A Apertura')\n",
    "print(seasons)\n",
    "\n",
    "type_player = [\"Midfielders\", \"Defenders\", \"Goalkeepers\", \"Forwards\"]"
   ]
  },
  {
   "cell_type": "code",
   "execution_count": 49,
   "id": "cce2e1d1",
   "metadata": {},
   "outputs": [
    {
     "name": "stderr",
     "output_type": "stream",
     "text": [
      "could not detect version_main.therefore, we are assuming it is chrome 108 or higher\n"
     ]
    },
    {
     "name": "stdout",
     "output_type": "stream",
     "text": [
      "End of the pages\n"
     ]
    }
   ],
   "source": [
    "tt = sofascore.scrape_league_stats(league=\"Colombia Primera A Apertura\", season=\"2025\", save_csv=False, accumulation=\"per90\", selected_positions= [\"Goalkeepers\"])"
   ]
  },
  {
   "cell_type": "code",
   "execution_count": null,
   "id": "1f976eae",
   "metadata": {},
   "outputs": [
    {
     "data": {
      "application/vnd.microsoft.datawrangler.viewer.v0+json": {
       "columns": [
        {
         "name": "index",
         "rawType": "int64",
         "type": "integer"
        },
        {
         "name": "goals",
         "rawType": "int64",
         "type": "integer"
        },
        {
         "name": "yellowCards",
         "rawType": "float64",
         "type": "float"
        },
        {
         "name": "redCards",
         "rawType": "float64",
         "type": "float"
        },
        {
         "name": "groundDuelsWon",
         "rawType": "float64",
         "type": "float"
        },
        {
         "name": "groundDuelsWonPercentage",
         "rawType": "float64",
         "type": "float"
        },
        {
         "name": "aerialDuelsWon",
         "rawType": "float64",
         "type": "float"
        },
        {
         "name": "aerialDuelsWonPercentage",
         "rawType": "float64",
         "type": "float"
        },
        {
         "name": "successfulDribbles",
         "rawType": "float64",
         "type": "float"
        },
        {
         "name": "assists",
         "rawType": "float64",
         "type": "float"
        },
        {
         "name": "accuratePassesPercentage",
         "rawType": "float64",
         "type": "float"
        },
        {
         "name": "totalDuelsWon",
         "rawType": "float64",
         "type": "float"
        },
        {
         "name": "totalDuelsWonPercentage",
         "rawType": "float64",
         "type": "float"
        },
        {
         "name": "minutesPlayed",
         "rawType": "int64",
         "type": "integer"
        },
        {
         "name": "wasFouled",
         "rawType": "float64",
         "type": "float"
        },
        {
         "name": "fouls",
         "rawType": "float64",
         "type": "float"
        },
        {
         "name": "dispossessed",
         "rawType": "float64",
         "type": "float"
        },
        {
         "name": "appearances",
         "rawType": "float64",
         "type": "float"
        },
        {
         "name": "saves",
         "rawType": "float64",
         "type": "float"
        },
        {
         "name": "savedShotsFromInsideTheBox",
         "rawType": "float64",
         "type": "float"
        },
        {
         "name": "savedShotsFromOutsideTheBox",
         "rawType": "float64",
         "type": "float"
        },
        {
         "name": "goalsConcededInsideTheBox",
         "rawType": "float64",
         "type": "float"
        },
        {
         "name": "goalsConcededOutsideTheBox",
         "rawType": "float64",
         "type": "float"
        },
        {
         "name": "highClaims",
         "rawType": "float64",
         "type": "float"
        },
        {
         "name": "successfulRunsOut",
         "rawType": "float64",
         "type": "float"
        },
        {
         "name": "punches",
         "rawType": "float64",
         "type": "float"
        },
        {
         "name": "runsOut",
         "rawType": "float64",
         "type": "float"
        },
        {
         "name": "accurateFinalThirdPasses",
         "rawType": "float64",
         "type": "float"
        },
        {
         "name": "bigChancesCreated",
         "rawType": "float64",
         "type": "float"
        },
        {
         "name": "accuratePasses",
         "rawType": "float64",
         "type": "float"
        },
        {
         "name": "keyPasses",
         "rawType": "float64",
         "type": "float"
        },
        {
         "name": "accurateCrosses",
         "rawType": "float64",
         "type": "float"
        },
        {
         "name": "accurateCrossesPercentage",
         "rawType": "int64",
         "type": "integer"
        },
        {
         "name": "accurateLongBalls",
         "rawType": "float64",
         "type": "float"
        },
        {
         "name": "accurateLongBallsPercentage",
         "rawType": "float64",
         "type": "float"
        },
        {
         "name": "interceptions",
         "rawType": "float64",
         "type": "float"
        },
        {
         "name": "clearances",
         "rawType": "float64",
         "type": "float"
        },
        {
         "name": "dribbledPast",
         "rawType": "float64",
         "type": "float"
        },
        {
         "name": "bigChancesMissed",
         "rawType": "int64",
         "type": "integer"
        },
        {
         "name": "totalShots",
         "rawType": "float64",
         "type": "float"
        },
        {
         "name": "shotsOnTarget",
         "rawType": "int64",
         "type": "integer"
        },
        {
         "name": "blockedShots",
         "rawType": "float64",
         "type": "float"
        },
        {
         "name": "goalConversionPercentage",
         "rawType": "int64",
         "type": "integer"
        },
        {
         "name": "hitWoodwork",
         "rawType": "float64",
         "type": "float"
        },
        {
         "name": "offsides",
         "rawType": "int64",
         "type": "integer"
        },
        {
         "name": "expectedGoals",
         "rawType": "object",
         "type": "unknown"
        },
        {
         "name": "errorLeadToGoal",
         "rawType": "float64",
         "type": "float"
        },
        {
         "name": "errorLeadToShot",
         "rawType": "float64",
         "type": "float"
        },
        {
         "name": "passToAssist",
         "rawType": "int64",
         "type": "integer"
        },
        {
         "name": "player",
         "rawType": "object",
         "type": "string"
        },
        {
         "name": "team",
         "rawType": "object",
         "type": "string"
        }
       ],
       "ref": "a52ba214-391c-405a-964a-5c9335135332",
       "rows": [
        [
         "0",
         "0",
         "0.0",
         "0.0",
         "0.0",
         "0.0",
         "0.0",
         "0.0",
         "0.0",
         "0.0",
         "77.27",
         "0.0",
         "0.0",
         "90",
         "0.0",
         "0.0",
         "0.0",
         "1.0",
         "4.0",
         "3.0",
         "0.5",
         "1.0",
         "0.0",
         "1.0",
         "0.5",
         "0.0",
         "0.5",
         "1.0",
         "0.0",
         "17.0",
         "0.0",
         "0.0",
         "0",
         "5.0",
         "52.63",
         "0.0",
         "1.5",
         "0.0",
         "0",
         "0.0",
         "0",
         "0.0",
         "0",
         "0.0",
         "0",
         null,
         "0.0",
         "0.0",
         "0",
         "Roameth Romaña",
         "Llaneros FC"
        ],
        [
         "1",
         "0",
         "0.29",
         "0.0",
         "0.43",
         "100.0",
         "0.29",
         "100.0",
         "0.14",
         "0.0",
         "62.5",
         "0.72",
         "100.0",
         "90",
         "0.29",
         "0.0",
         "0.0",
         "1.01",
         "4.49",
         "2.46",
         "1.88",
         "1.01",
         "0.0",
         "0.43",
         "0.14",
         "0.29",
         "0.14",
         "1.59",
         "0.0",
         "16.64",
         "0.0",
         "0.0",
         "0",
         "6.8",
         "40.52",
         "0.0",
         "2.03",
         "0.0",
         "0",
         "0.0",
         "0",
         "0.0",
         "0",
         "0.0",
         "0",
         null,
         "0.0",
         "0.0",
         "0",
         "Jefersson Martínez",
         "Junior Barranquilla"
        ]
       ],
       "shape": {
        "columns": 50,
        "rows": 2
       }
      },
      "text/html": [
       "<div>\n",
       "<style scoped>\n",
       "    .dataframe tbody tr th:only-of-type {\n",
       "        vertical-align: middle;\n",
       "    }\n",
       "\n",
       "    .dataframe tbody tr th {\n",
       "        vertical-align: top;\n",
       "    }\n",
       "\n",
       "    .dataframe thead th {\n",
       "        text-align: right;\n",
       "    }\n",
       "</style>\n",
       "<table border=\"1\" class=\"dataframe\">\n",
       "  <thead>\n",
       "    <tr style=\"text-align: right;\">\n",
       "      <th></th>\n",
       "      <th>goals</th>\n",
       "      <th>yellowCards</th>\n",
       "      <th>redCards</th>\n",
       "      <th>groundDuelsWon</th>\n",
       "      <th>groundDuelsWonPercentage</th>\n",
       "      <th>aerialDuelsWon</th>\n",
       "      <th>aerialDuelsWonPercentage</th>\n",
       "      <th>successfulDribbles</th>\n",
       "      <th>assists</th>\n",
       "      <th>accuratePassesPercentage</th>\n",
       "      <th>...</th>\n",
       "      <th>blockedShots</th>\n",
       "      <th>goalConversionPercentage</th>\n",
       "      <th>hitWoodwork</th>\n",
       "      <th>offsides</th>\n",
       "      <th>expectedGoals</th>\n",
       "      <th>errorLeadToGoal</th>\n",
       "      <th>errorLeadToShot</th>\n",
       "      <th>passToAssist</th>\n",
       "      <th>player</th>\n",
       "      <th>team</th>\n",
       "    </tr>\n",
       "  </thead>\n",
       "  <tbody>\n",
       "    <tr>\n",
       "      <th>0</th>\n",
       "      <td>0</td>\n",
       "      <td>0.00</td>\n",
       "      <td>0.0</td>\n",
       "      <td>0.00</td>\n",
       "      <td>0.0</td>\n",
       "      <td>0.00</td>\n",
       "      <td>0.0</td>\n",
       "      <td>0.00</td>\n",
       "      <td>0.0</td>\n",
       "      <td>77.27</td>\n",
       "      <td>...</td>\n",
       "      <td>0.0</td>\n",
       "      <td>0</td>\n",
       "      <td>0.0</td>\n",
       "      <td>0</td>\n",
       "      <td>None</td>\n",
       "      <td>0.0</td>\n",
       "      <td>0.0</td>\n",
       "      <td>0</td>\n",
       "      <td>Roameth Romaña</td>\n",
       "      <td>Llaneros FC</td>\n",
       "    </tr>\n",
       "    <tr>\n",
       "      <th>1</th>\n",
       "      <td>0</td>\n",
       "      <td>0.29</td>\n",
       "      <td>0.0</td>\n",
       "      <td>0.43</td>\n",
       "      <td>100.0</td>\n",
       "      <td>0.29</td>\n",
       "      <td>100.0</td>\n",
       "      <td>0.14</td>\n",
       "      <td>0.0</td>\n",
       "      <td>62.50</td>\n",
       "      <td>...</td>\n",
       "      <td>0.0</td>\n",
       "      <td>0</td>\n",
       "      <td>0.0</td>\n",
       "      <td>0</td>\n",
       "      <td>None</td>\n",
       "      <td>0.0</td>\n",
       "      <td>0.0</td>\n",
       "      <td>0</td>\n",
       "      <td>Jefersson Martínez</td>\n",
       "      <td>Junior Barranquilla</td>\n",
       "    </tr>\n",
       "  </tbody>\n",
       "</table>\n",
       "<p>2 rows × 50 columns</p>\n",
       "</div>"
      ],
      "text/plain": [
       "   goals  yellowCards  redCards  groundDuelsWon  groundDuelsWonPercentage  \\\n",
       "0      0         0.00       0.0            0.00                       0.0   \n",
       "1      0         0.29       0.0            0.43                     100.0   \n",
       "\n",
       "   aerialDuelsWon  aerialDuelsWonPercentage  successfulDribbles  assists  \\\n",
       "0            0.00                       0.0                0.00      0.0   \n",
       "1            0.29                     100.0                0.14      0.0   \n",
       "\n",
       "   accuratePassesPercentage  ...  blockedShots  goalConversionPercentage  \\\n",
       "0                     77.27  ...           0.0                         0   \n",
       "1                     62.50  ...           0.0                         0   \n",
       "\n",
       "   hitWoodwork  offsides  expectedGoals  errorLeadToGoal  errorLeadToShot  \\\n",
       "0          0.0         0           None              0.0              0.0   \n",
       "1          0.0         0           None              0.0              0.0   \n",
       "\n",
       "   passToAssist              player                 team  \n",
       "0             0      Roameth Romaña          Llaneros FC  \n",
       "1             0  Jefersson Martínez  Junior Barranquilla  \n",
       "\n",
       "[2 rows x 50 columns]"
      ]
     },
     "execution_count": 50,
     "metadata": {},
     "output_type": "execute_result"
    }
   ],
   "source": []
  }
 ],
 "metadata": {
  "kernelspec": {
   "display_name": "Python 3",
   "language": "python",
   "name": "python3"
  },
  "language_info": {
   "codemirror_mode": {
    "name": "ipython",
    "version": 3
   },
   "file_extension": ".py",
   "mimetype": "text/x-python",
   "name": "python",
   "nbconvert_exporter": "python",
   "pygments_lexer": "ipython3",
   "version": "3.10.5"
  }
 },
 "nbformat": 4,
 "nbformat_minor": 5
}
