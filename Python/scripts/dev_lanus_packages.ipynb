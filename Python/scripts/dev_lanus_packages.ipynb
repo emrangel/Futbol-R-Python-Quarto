{
 "cells": [
  {
   "cell_type": "code",
   "execution_count": 1,
   "id": "cadcd8a1",
   "metadata": {},
   "outputs": [],
   "source": [
    "import LanusStats as ls\n",
    "import requests\n",
    "import json\n",
    "import os\n",
    "from datetime import datetime\n",
    "import time\n",
    "import pandas as pd\n",
    "\n",
    "sofascore = ls.SofaScore()"
   ]
  },
  {
   "cell_type": "code",
   "execution_count": 2,
   "id": "bcb95dcf",
   "metadata": {},
   "outputs": [
    {
     "name": "stdout",
     "output_type": "stream",
     "text": [
      "dict_keys(['Fbref', 'Sofascore', '365Scores', 'Fotmob', 'Transfermarkt', 'DataFactory'])\n",
      "['Argentina Liga Profesional', 'Argentina Copa de la Liga Profesional', 'Argentina Primera Nacional', 'Brasileirão Série A', 'Bolivia Division Profesional', 'Chile Primera Division', 'Colombia Primera A Apertura', 'Colombia Primera A Clausura', 'Ecuador LigaPro', 'Mexico LigaMX Apertura', 'Mexico LigaMX Clausura', 'Peru Liga 1', 'Uruguay Primera Division', 'Venezuela Primera Division', 'World Cup', 'Euros', 'Copa America', 'Premier League', 'La Liga', 'Bundesliga', 'Serie A', 'Ligue 1', 'Copa Libertadores', 'Copa Sudamericana', 'MLS', 'Saudi Pro League', 'J1 League', 'NSWL', 'USL Championship', 'La Liga 2']\n",
      "{'id': 11539, 'seasons': {'2022': 40320, '2023': 48283, '2024': 57374, '2025': 70681}}\n"
     ]
    }
   ],
   "source": [
    "pages = ls.get_available_pages()\n",
    "print(pages)\n",
    "leagues = ls.get_available_leagues('Sofascore')\n",
    "print(leagues)\n",
    "seasons = ls.get_available_season_for_leagues('Sofascore', 'Colombia Primera A Apertura')\n",
    "print(seasons)\n",
    "\n",
    "type_player = [\"Midfielders\", \"Defenders\", \"Goalkeepers\", \"Forwards\"]"
   ]
  },
  {
   "cell_type": "code",
   "execution_count": 49,
   "id": "cce2e1d1",
   "metadata": {},
   "outputs": [
    {
     "name": "stderr",
     "output_type": "stream",
     "text": [
      "could not detect version_main.therefore, we are assuming it is chrome 108 or higher\n"
     ]
    },
    {
     "name": "stdout",
     "output_type": "stream",
     "text": [
      "End of the pages\n"
     ]
    }
   ],
   "source": [
    "tt = sofascore.scrape_league_stats(league=\"Colombia Primera A Apertura\", season=\"2025\", save_csv=False, accumulation=\"per90\", selected_positions= [\"Goalkeepers\"])"
   ]
  },
  {
   "cell_type": "code",
   "execution_count": null,
   "id": "e08e8686",
   "metadata": {},
   "outputs": [
    {
     "name": "stderr",
     "output_type": "stream",
     "text": [
      "could not detect version_main.therefore, we are assuming it is chrome 108 or higher\n"
     ]
    },
    {
     "name": "stdout",
     "output_type": "stream",
     "text": [
      "End of the pages\n",
      "Guardado: C:/Users/Mateo/Desktop/Soccer/Futbol-R-Python-Quarto/Python/data/output\\Colombia_Primera_A_Apertura_2025_Forwards_2025-06-12.csv\n"
     ]
    }
   ],
   "source": [
    "# Ruta donde se guardarán los CSVs (modifica esto)\n",
    "output_dir = \"C:/Users/Mateo/Desktop/Soccer/Futbol-R-Python-Quarto/Python/data/output\"\n",
    "\n",
    "# Crear carpeta si no existe\n",
    "os.makedirs(output_dir, exist_ok=True)\n",
    "\n",
    "# Lista de temporadas y tipos de jugador\n",
    "seasons = [\n",
    "    # \"2022\",\n",
    "    # \"2023\",\n",
    "    # \"2024\",\n",
    "      \"2025\"\n",
    "          ]\n",
    "type_player = [\n",
    "    # \"Midfielders\",\n",
    "    #  \"Defenders\",\n",
    "    #  \"Goalkeepers\",\n",
    "      \"Forwards\"\n",
    "      ]\n",
    "\n",
    "# Fecha actual para nombrar los archivos\n",
    "fecha_actual = datetime.now().strftime(\"%Y-%m-%d\")\n",
    "# Loop para scrapear y guardar CSV\n",
    "for season in seasons:\n",
    "    for position in type_player:\n",
    "        try:\n",
    "            df = sofascore.scrape_league_stats(\n",
    "                league=\"Colombia Primera A Apertura\",\n",
    "                season=season,\n",
    "                save_csv=False,\n",
    "                accumulation=\"per90\",\n",
    "                selected_positions=[position]\n",
    "            )\n",
    "\n",
    "            if df is not None and not df.empty:\n",
    "                filename = f\"Colombia_Primera_A_Apertura_{season}_{position}_{fecha_actual}.csv\"\n",
    "                filepath = os.path.join(output_dir, filename)\n",
    "                df.to_csv(filepath, index=False)\n",
    "                print(f\"Guardado: {filepath}\")\n",
    "            else:\n",
    "                print(f\"Sin datos para {season} - {position}\")\n",
    "\n",
    "        except Exception as e:\n",
    "            print(f\"Error con {season} - {position}: {e}\")\n",
    "\n",
    "        # Pausa para evitar sobrecargar el servidor\n",
    "        time.sleep(2)  # puedes aumentar a 3, 5, etc. si hace falta"
   ]
  },
  {
   "cell_type": "code",
   "execution_count": 18,
   "id": "1f976eae",
   "metadata": {},
   "outputs": [
    {
     "name": "stderr",
     "output_type": "stream",
     "text": [
      "could not detect version_main.therefore, we are assuming it is chrome 108 or higher\n"
     ]
    }
   ],
   "source": [
    "get_players_match_stats = sofascore.get_players_match_stats(\"https://www.sofascore.com/football/match/boyaca-chico-fc-atletico-bucaramanga/dxcshxc#id:13320341\")"
   ]
  },
  {
   "cell_type": "code",
   "execution_count": 3,
   "id": "398a69dd",
   "metadata": {},
   "outputs": [],
   "source": [
    "# get_players_match_stats[0].head"
   ]
  },
  {
   "cell_type": "code",
   "execution_count": 5,
   "id": "f7d7d7d0",
   "metadata": {},
   "outputs": [
    {
     "name": "stdout",
     "output_type": "stream",
     "text": [
      "[13380413, 13380406, 13358726, 13380407, 13380412, 13380410, 13380408, 13380411, 13380414, 13380409]\n"
     ]
    },
    {
     "ename": "NameError",
     "evalue": "name 'custom_id' is not defined",
     "output_type": "error",
     "traceback": [
      "\u001b[1;31m---------------------------------------------------------------------------\u001b[0m",
      "\u001b[1;31mNameError\u001b[0m                                 Traceback (most recent call last)",
      "Cell \u001b[1;32mIn[5], line 29\u001b[0m\n\u001b[0;32m     19\u001b[0m \u001b[38;5;66;03m# for event in json_data.get(\"events\", []):\u001b[39;00m\n\u001b[0;32m     20\u001b[0m \u001b[38;5;66;03m#     match_id = event.get(\"id\")\u001b[39;00m\n\u001b[0;32m     21\u001b[0m \u001b[38;5;66;03m#     custom_id = event.get(\"customId\")\u001b[39;00m\n\u001b[1;32m   (...)\u001b[0m\n\u001b[0;32m     26\u001b[0m \n\u001b[0;32m     27\u001b[0m \u001b[38;5;66;03m# Mostrar los IDs\u001b[39;00m\n\u001b[0;32m     28\u001b[0m \u001b[38;5;28mprint\u001b[39m(ids)\n\u001b[1;32m---> 29\u001b[0m \u001b[38;5;28mprint\u001b[39m(\u001b[43mcustom_id\u001b[49m)\n",
      "\u001b[1;31mNameError\u001b[0m: name 'custom_id' is not defined"
     ]
    }
   ],
   "source": [
    "headers = {\n",
    "    \"User-Agent\": \"Mozilla/5.0 (Windows NT 10.0; Win64; x64) AppleWebKit/537.36 (KHTML, like Gecko) Chrome/132.0.0.0 Safari/537.36\",\n",
    "    \"Accept\": \"application/json, text/plain, */*\",\n",
    "    \"Cache-Control\": \"public, max-age=300\",\n",
    "    \"X-Client-Version\": \"production:9574079b5bff3c8ab725e1989963fb3121f67e2f-undefined\",\n",
    "    \"X-Mas\": \"eyJib2R5Ijp7InVybCI6Ii9hcGkvbWF0Y2hEZXRhaWxzP21hdGNoSWQ9NDUwNjk4MCZzaG93TmV3VWVmYUJyYWNrZXQ9dHJ1ZSIsImNvZGUiOjE3MzkxMTg5NzY1NTIsImZvbyI6InByb2R1Y3Rpb246OTU3NDA3OWI1YmZmM2M4YWI3MjVlMTk4OTk2M2ZiMzEyMWY2N2UyZi11bmRlZmluZWQifSwic2lnbmF0dXJlIjoiMDU5N0JGMEJCOENEMTUxQzJBQjY1MzlEMURCMUI4NjIifQ==\",\n",
    "}\n",
    "\n",
    "url = \"https://www.sofascore.com/api/v1/unique-tournament/11539/season/70681/events/round/16\"\n",
    "\n",
    "response = requests.get(url, headers=headers)\n",
    "json_data = response.json()\n",
    "\n",
    "# json_data\n",
    "# Extraer todos los IDs\n",
    "ids = [event[\"id\"] for event in json_data.get(\"events\", [])]\n",
    "customId = [event[\"customId\"] for event in json_data.get(\"events\", [])]\n",
    "\n",
    "# for event in json_data.get(\"events\", []):\n",
    "#     match_id = event.get(\"id\")\n",
    "#     custom_id = event.get(\"customId\")\n",
    "#     slug = event.get(\"slug\")  # Necesario para armar la URL completa\n",
    "\n",
    "#     print(custom_id)\n",
    "#     print(match_id)\n",
    "\n",
    "# Mostrar los IDs\n",
    "print(ids)\n",
    "print(custom_id)\n"
   ]
  },
  {
   "cell_type": "code",
   "execution_count": null,
   "id": "c3f761f8",
   "metadata": {},
   "outputs": [
    {
     "name": "stdout",
     "output_type": "stream",
     "text": [
      "Llamando a: https://www.sofascore.com/football/match/alianza-valledupar-fc-independiente-medellin/pxcsZXbe#id:13320338\n",
      "Llamando a: https://www.sofascore.com/football/match/deportivo-pasto-deportes-tolima/lxcsnxc#id:13320346\n",
      "Llamando a: https://www.sofascore.com/football/match/fortaleza-ceif-envigado-fc/oxcstMK#id:13320345\n",
      "Llamando a: https://www.sofascore.com/football/match/deportivo-cali-junior-barranquilla/fxcsmxc#id:13320339\n",
      "Llamando a: https://www.sofascore.com/football/match/rionegro-aguilas-doradas-deportivo-la-equidad/AOcsUou#id:13320337\n",
      "Llamando a: https://www.sofascore.com/football/match/boyaca-chico-fc-atletico-bucaramanga/dxcshxc#id:13320341\n",
      "Llamando a: https://www.sofascore.com/football/match/llaneros-fc-america-de-cali/cxcszMK#id:13320342\n",
      "Llamando a: https://www.sofascore.com/football/match/once-caldas-atletico-nacional/gxcstxc#id:13320344\n",
      "Llamando a: https://www.sofascore.com/football/match/independiente-santa-fe-deportivo-pereira/jxcsqxc#id:13320343\n",
      "Llamando a: https://www.sofascore.com/football/match/deportivo-cali-junior-barranquilla/fxcsmxc#id:13340350\n",
      "Llamando a: https://www.sofascore.com/football/match/alianza-valledupar-fc-independiente-medellin/pxcsZXbe#id:13340351\n",
      "Llamando a: https://www.sofascore.com/football/match/once-caldas-atletico-nacional/gxcstxc#id:13340352\n",
      "Llamando a: https://www.sofascore.com/football/match/rionegro-aguilas-doradas-deportivo-la-equidad/AOcsUou#id:13340349\n",
      "Llamando a: https://www.sofascore.com/football/match/deportivo-pasto-deportes-tolima/lxcsnxc#id:13340348\n",
      "Llamando a: https://www.sofascore.com/football/match/fortaleza-ceif-envigado-fc/oxcstMK#id:13340346\n",
      "Llamando a: https://www.sofascore.com/football/match/union-magdalena-millonarios/rxcsBMK#id:13462324\n",
      "Llamando a: https://www.sofascore.com/football/match/deportes-tolima-junior-barranquilla/fxcslxc#id:13943314\n",
      "Llamando a: https://www.sofascore.com/football/match/independiente-medellin-america-de-cali/cxcspxc#id:13943315\n",
      "Llamando a: https://www.sofascore.com/football/match/millonarios-independiente-santa-fe/qxcsrxc#id:13943318\n",
      "Llamando a: https://www.sofascore.com/football/match/once-caldas-atletico-nacional/gxcstxc#id:13943320\n"
     ]
    }
   ],
   "source": [
    "url = \"https://www.sofascore.com/api/v1/unique-tournament/11539/season/70681/events/round/1\"\n",
    "\n",
    "response = requests.get(url)\n",
    "json_data = response.json()\n",
    "\n",
    "output_folder = os.path.join(\"..\", \"data\", \"output\", \"matches2\")\n",
    "os.makedirs(output_folder, exist_ok=True)\n",
    "\n",
    "# Iterar sobre los eventos\n",
    "for event in json_data.get(\"events\", []):\n",
    "    match_id = event.get(\"id\")\n",
    "    custom_id = event.get(\"customId\")\n",
    "    slug = event.get(\"slug\")  # Necesario para armar la URL completa\n",
    "\n",
    "    if match_id and custom_id and slug:\n",
    "        match_url = f\"https://www.sofascore.com/football/match/{slug}/{custom_id}#id:{match_id}\"\n",
    "        \n",
    "        # Llamar a la función con esa URL\n",
    "        print(f\"Llamando a: {match_url}\")\n",
    "        # get_players_match_stats = sofascore.get_players_match_stats(match_url)\n",
    "\n",
    "        # df1 = get_players_match_stats[0]\n",
    "        # df2 = get_players_match_stats[1]\n",
    "        \n",
    "        # df3 = pd.concat(df1, df2)\n"
   ]
  },
  {
   "cell_type": "code",
   "execution_count": null,
   "id": "dba54f31",
   "metadata": {},
   "outputs": [],
   "source": [
    "output_folder = os.path.join(\"..\", \"data\", \"output\", \"matches2\")\n",
    "os.makedirs(output_folder, exist_ok=True)"
   ]
  },
  {
   "cell_type": "code",
   "execution_count": null,
   "id": "acaa2265",
   "metadata": {},
   "outputs": [
    {
     "name": "stderr",
     "output_type": "stream",
     "text": [
      "could not detect version_main.therefore, we are assuming it is chrome 108 or higher\n"
     ]
    },
    {
     "ename": "KeyboardInterrupt",
     "evalue": "",
     "output_type": "error",
     "traceback": [
      "\u001b[1;31m---------------------------------------------------------------------------\u001b[0m",
      "\u001b[1;31mKeyboardInterrupt\u001b[0m                         Traceback (most recent call last)",
      "Cell \u001b[1;32mIn[31], line 51\u001b[0m\n\u001b[0;32m     48\u001b[0m match_url \u001b[38;5;241m=\u001b[39m \u001b[38;5;124mf\u001b[39m\u001b[38;5;124m\"\u001b[39m\u001b[38;5;124mhttps://www.sofascore.com/football/match/\u001b[39m\u001b[38;5;132;01m{\u001b[39;00mslug\u001b[38;5;132;01m}\u001b[39;00m\u001b[38;5;124m/\u001b[39m\u001b[38;5;132;01m{\u001b[39;00mcustom_id\u001b[38;5;132;01m}\u001b[39;00m\u001b[38;5;124m#id:\u001b[39m\u001b[38;5;132;01m{\u001b[39;00mmatch_id\u001b[38;5;132;01m}\u001b[39;00m\u001b[38;5;124m\"\u001b[39m\n\u001b[0;32m     49\u001b[0m \u001b[38;5;28mprint\u001b[39m(\u001b[38;5;124mf\u001b[39m\u001b[38;5;124m\"\u001b[39m\u001b[38;5;124m➡️  Match: \u001b[39m\u001b[38;5;132;01m{\u001b[39;00mslug\u001b[38;5;132;01m}\u001b[39;00m\u001b[38;5;124m\"\u001b[39m)\n\u001b[1;32m---> 51\u001b[0m stats_list \u001b[38;5;241m=\u001b[39m \u001b[43msofascore\u001b[49m\u001b[38;5;241;43m.\u001b[39;49m\u001b[43mget_players_match_stats\u001b[49m\u001b[43m(\u001b[49m\u001b[43mmatch_url\u001b[49m\u001b[43m)\u001b[49m\n\u001b[0;32m     53\u001b[0m \u001b[38;5;28;01mif\u001b[39;00m \u001b[38;5;28misinstance\u001b[39m(stats_list, \u001b[38;5;28mlist\u001b[39m) \u001b[38;5;129;01mand\u001b[39;00m \u001b[38;5;28mlen\u001b[39m(stats_list) \u001b[38;5;241m==\u001b[39m \u001b[38;5;241m2\u001b[39m:\n\u001b[0;32m     54\u001b[0m     df_local, df_visitante \u001b[38;5;241m=\u001b[39m stats_list\n",
      "File \u001b[1;32mc:\\Users\\Mateo\\AppData\\Local\\Programs\\Python\\Python310\\lib\\site-packages\\LanusStats\\sofascore.py:278\u001b[0m, in \u001b[0;36mSofaScore.get_players_match_stats\u001b[1;34m(self, match_url)\u001b[0m\n\u001b[0;32m    274\u001b[0m home_name, away_name \u001b[38;5;241m=\u001b[39m \u001b[38;5;28mself\u001b[39m\u001b[38;5;241m.\u001b[39mget_team_names(match_url)\n\u001b[0;32m    276\u001b[0m request_url \u001b[38;5;241m=\u001b[39m \u001b[38;5;124mf\u001b[39m\u001b[38;5;124m'\u001b[39m\u001b[38;5;124mapi/v1/event/\u001b[39m\u001b[38;5;132;01m{\u001b[39;00mmatch_id\u001b[38;5;132;01m}\u001b[39;00m\u001b[38;5;124m/lineups\u001b[39m\u001b[38;5;124m'\u001b[39m\n\u001b[1;32m--> 278\u001b[0m response \u001b[38;5;241m=\u001b[39m \u001b[38;5;28;43mself\u001b[39;49m\u001b[38;5;241;43m.\u001b[39;49m\u001b[43msofascore_request\u001b[49m\u001b[43m(\u001b[49m\u001b[43mrequest_url\u001b[49m\u001b[43m)\u001b[49m\n\u001b[0;32m    280\u001b[0m names \u001b[38;5;241m=\u001b[39m {\u001b[38;5;124m'\u001b[39m\u001b[38;5;124mhome\u001b[39m\u001b[38;5;124m'\u001b[39m: home_name, \u001b[38;5;124m'\u001b[39m\u001b[38;5;124maway\u001b[39m\u001b[38;5;124m'\u001b[39m: away_name}\n\u001b[0;32m    281\u001b[0m dataframes \u001b[38;5;241m=\u001b[39m {}\n",
      "File \u001b[1;32mc:\\Users\\Mateo\\AppData\\Local\\Programs\\Python\\Python310\\lib\\site-packages\\LanusStats\\sofascore.py:115\u001b[0m, in \u001b[0;36mSofaScore.sofascore_request\u001b[1;34m(self, path)\u001b[0m\n\u001b[0;32m    112\u001b[0m chrome_options\u001b[38;5;241m.\u001b[39madd_argument(\u001b[38;5;124m'\u001b[39m\u001b[38;5;124maccept-language=en-US,en;q=0.9\u001b[39m\u001b[38;5;124m'\u001b[39m)\n\u001b[0;32m    114\u001b[0m driver \u001b[38;5;241m=\u001b[39m uc\u001b[38;5;241m.\u001b[39mChrome(headless\u001b[38;5;241m=\u001b[39m\u001b[38;5;28;01mTrue\u001b[39;00m,use_subprocess\u001b[38;5;241m=\u001b[39m\u001b[38;5;28;01mFalse\u001b[39;00m,option\u001b[38;5;241m=\u001b[39mchrome_options)\n\u001b[1;32m--> 115\u001b[0m \u001b[43mdriver\u001b[49m\u001b[38;5;241;43m.\u001b[39;49m\u001b[43mget\u001b[49m\u001b[43m(\u001b[49m\u001b[43mpath\u001b[49m\u001b[43m)\u001b[49m\n\u001b[0;32m    116\u001b[0m soup \u001b[38;5;241m=\u001b[39m BeautifulSoup(driver\u001b[38;5;241m.\u001b[39mpage_source, \u001b[38;5;124m'\u001b[39m\u001b[38;5;124mhtml.parser\u001b[39m\u001b[38;5;124m'\u001b[39m)\n\u001b[0;32m    118\u001b[0m driver\u001b[38;5;241m.\u001b[39mclose()\n",
      "File \u001b[1;32mc:\\Users\\Mateo\\AppData\\Local\\Programs\\Python\\Python310\\lib\\site-packages\\undetected_chromedriver\\__init__.py:629\u001b[0m, in \u001b[0;36mChrome._configure_headless.<locals>.get_wrapped\u001b[1;34m(*args, **kwargs)\u001b[0m\n\u001b[0;32m    520\u001b[0m     \u001b[38;5;28mself\u001b[39m\u001b[38;5;241m.\u001b[39mexecute_cdp_cmd(\n\u001b[0;32m    521\u001b[0m         \u001b[38;5;124m\"\u001b[39m\u001b[38;5;124mNetwork.setUserAgentOverride\u001b[39m\u001b[38;5;124m\"\u001b[39m,\n\u001b[0;32m    522\u001b[0m         {\n\u001b[1;32m   (...)\u001b[0m\n\u001b[0;32m    526\u001b[0m         },\n\u001b[0;32m    527\u001b[0m     )\n\u001b[0;32m    528\u001b[0m     \u001b[38;5;28mself\u001b[39m\u001b[38;5;241m.\u001b[39mexecute_cdp_cmd(\n\u001b[0;32m    529\u001b[0m         \u001b[38;5;124m\"\u001b[39m\u001b[38;5;124mPage.addScriptToEvaluateOnNewDocument\u001b[39m\u001b[38;5;124m\"\u001b[39m,\n\u001b[0;32m    530\u001b[0m         {\n\u001b[1;32m   (...)\u001b[0m\n\u001b[0;32m    627\u001b[0m         },\n\u001b[0;32m    628\u001b[0m     )\n\u001b[1;32m--> 629\u001b[0m \u001b[38;5;28;01mreturn\u001b[39;00m orig_get(\u001b[38;5;241m*\u001b[39margs, \u001b[38;5;241m*\u001b[39m\u001b[38;5;241m*\u001b[39mkwargs)\n",
      "File \u001b[1;32mc:\\Users\\Mateo\\AppData\\Local\\Programs\\Python\\Python310\\lib\\site-packages\\undetected_chromedriver\\__init__.py:665\u001b[0m, in \u001b[0;36mChrome.get\u001b[1;34m(self, url)\u001b[0m\n\u001b[0;32m    662\u001b[0m \u001b[38;5;28;01mdef\u001b[39;00m \u001b[38;5;21mget\u001b[39m(\u001b[38;5;28mself\u001b[39m, url):\n\u001b[0;32m    663\u001b[0m     \u001b[38;5;66;03m# if self._get_cdc_props():\u001b[39;00m\n\u001b[0;32m    664\u001b[0m     \u001b[38;5;66;03m#     self._hook_remove_cdc_props()\u001b[39;00m\n\u001b[1;32m--> 665\u001b[0m     \u001b[38;5;28;01mreturn\u001b[39;00m \u001b[38;5;28;43msuper\u001b[39;49m\u001b[43m(\u001b[49m\u001b[43m)\u001b[49m\u001b[38;5;241;43m.\u001b[39;49m\u001b[43mget\u001b[49m\u001b[43m(\u001b[49m\u001b[43murl\u001b[49m\u001b[43m)\u001b[49m\n",
      "File \u001b[1;32mc:\\Users\\Mateo\\AppData\\Local\\Programs\\Python\\Python310\\lib\\site-packages\\selenium\\webdriver\\remote\\webdriver.py:357\u001b[0m, in \u001b[0;36mWebDriver.get\u001b[1;34m(self, url)\u001b[0m\n\u001b[0;32m    355\u001b[0m \u001b[38;5;28;01mdef\u001b[39;00m \u001b[38;5;21mget\u001b[39m(\u001b[38;5;28mself\u001b[39m, url: \u001b[38;5;28mstr\u001b[39m) \u001b[38;5;241m-\u001b[39m\u001b[38;5;241m>\u001b[39m \u001b[38;5;28;01mNone\u001b[39;00m:\n\u001b[0;32m    356\u001b[0m \u001b[38;5;250m    \u001b[39m\u001b[38;5;124;03m\"\"\"Loads a web page in the current browser session.\"\"\"\u001b[39;00m\n\u001b[1;32m--> 357\u001b[0m     \u001b[38;5;28;43mself\u001b[39;49m\u001b[38;5;241;43m.\u001b[39;49m\u001b[43mexecute\u001b[49m\u001b[43m(\u001b[49m\u001b[43mCommand\u001b[49m\u001b[38;5;241;43m.\u001b[39;49m\u001b[43mGET\u001b[49m\u001b[43m,\u001b[49m\u001b[43m \u001b[49m\u001b[43m{\u001b[49m\u001b[38;5;124;43m\"\u001b[39;49m\u001b[38;5;124;43murl\u001b[39;49m\u001b[38;5;124;43m\"\u001b[39;49m\u001b[43m:\u001b[49m\u001b[43m \u001b[49m\u001b[43murl\u001b[49m\u001b[43m}\u001b[49m\u001b[43m)\u001b[49m\n",
      "File \u001b[1;32mc:\\Users\\Mateo\\AppData\\Local\\Programs\\Python\\Python310\\lib\\site-packages\\selenium\\webdriver\\remote\\webdriver.py:346\u001b[0m, in \u001b[0;36mWebDriver.execute\u001b[1;34m(self, driver_command, params)\u001b[0m\n\u001b[0;32m    343\u001b[0m     \u001b[38;5;28;01melif\u001b[39;00m \u001b[38;5;124m\"\u001b[39m\u001b[38;5;124msessionId\u001b[39m\u001b[38;5;124m\"\u001b[39m \u001b[38;5;129;01mnot\u001b[39;00m \u001b[38;5;129;01min\u001b[39;00m params:\n\u001b[0;32m    344\u001b[0m         params[\u001b[38;5;124m\"\u001b[39m\u001b[38;5;124msessionId\u001b[39m\u001b[38;5;124m\"\u001b[39m] \u001b[38;5;241m=\u001b[39m \u001b[38;5;28mself\u001b[39m\u001b[38;5;241m.\u001b[39msession_id\n\u001b[1;32m--> 346\u001b[0m response \u001b[38;5;241m=\u001b[39m \u001b[38;5;28;43mself\u001b[39;49m\u001b[38;5;241;43m.\u001b[39;49m\u001b[43mcommand_executor\u001b[49m\u001b[38;5;241;43m.\u001b[39;49m\u001b[43mexecute\u001b[49m\u001b[43m(\u001b[49m\u001b[43mdriver_command\u001b[49m\u001b[43m,\u001b[49m\u001b[43m \u001b[49m\u001b[43mparams\u001b[49m\u001b[43m)\u001b[49m\n\u001b[0;32m    347\u001b[0m \u001b[38;5;28;01mif\u001b[39;00m response:\n\u001b[0;32m    348\u001b[0m     \u001b[38;5;28mself\u001b[39m\u001b[38;5;241m.\u001b[39merror_handler\u001b[38;5;241m.\u001b[39mcheck_response(response)\n",
      "File \u001b[1;32mc:\\Users\\Mateo\\AppData\\Local\\Programs\\Python\\Python310\\lib\\site-packages\\selenium\\webdriver\\remote\\remote_connection.py:300\u001b[0m, in \u001b[0;36mRemoteConnection.execute\u001b[1;34m(self, command, params)\u001b[0m\n\u001b[0;32m    298\u001b[0m data \u001b[38;5;241m=\u001b[39m utils\u001b[38;5;241m.\u001b[39mdump_json(params)\n\u001b[0;32m    299\u001b[0m url \u001b[38;5;241m=\u001b[39m \u001b[38;5;124mf\u001b[39m\u001b[38;5;124m\"\u001b[39m\u001b[38;5;132;01m{\u001b[39;00m\u001b[38;5;28mself\u001b[39m\u001b[38;5;241m.\u001b[39m_url\u001b[38;5;132;01m}\u001b[39;00m\u001b[38;5;132;01m{\u001b[39;00mpath\u001b[38;5;132;01m}\u001b[39;00m\u001b[38;5;124m\"\u001b[39m\n\u001b[1;32m--> 300\u001b[0m \u001b[38;5;28;01mreturn\u001b[39;00m \u001b[38;5;28;43mself\u001b[39;49m\u001b[38;5;241;43m.\u001b[39;49m\u001b[43m_request\u001b[49m\u001b[43m(\u001b[49m\u001b[43mcommand_info\u001b[49m\u001b[43m[\u001b[49m\u001b[38;5;241;43m0\u001b[39;49m\u001b[43m]\u001b[49m\u001b[43m,\u001b[49m\u001b[43m \u001b[49m\u001b[43murl\u001b[49m\u001b[43m,\u001b[49m\u001b[43m \u001b[49m\u001b[43mbody\u001b[49m\u001b[38;5;241;43m=\u001b[39;49m\u001b[43mdata\u001b[49m\u001b[43m)\u001b[49m\n",
      "File \u001b[1;32mc:\\Users\\Mateo\\AppData\\Local\\Programs\\Python\\Python310\\lib\\site-packages\\selenium\\webdriver\\remote\\remote_connection.py:321\u001b[0m, in \u001b[0;36mRemoteConnection._request\u001b[1;34m(self, method, url, body)\u001b[0m\n\u001b[0;32m    318\u001b[0m     body \u001b[38;5;241m=\u001b[39m \u001b[38;5;28;01mNone\u001b[39;00m\n\u001b[0;32m    320\u001b[0m \u001b[38;5;28;01mif\u001b[39;00m \u001b[38;5;28mself\u001b[39m\u001b[38;5;241m.\u001b[39mkeep_alive:\n\u001b[1;32m--> 321\u001b[0m     response \u001b[38;5;241m=\u001b[39m \u001b[38;5;28;43mself\u001b[39;49m\u001b[38;5;241;43m.\u001b[39;49m\u001b[43m_conn\u001b[49m\u001b[38;5;241;43m.\u001b[39;49m\u001b[43mrequest\u001b[49m\u001b[43m(\u001b[49m\u001b[43mmethod\u001b[49m\u001b[43m,\u001b[49m\u001b[43m \u001b[49m\u001b[43murl\u001b[49m\u001b[43m,\u001b[49m\u001b[43m \u001b[49m\u001b[43mbody\u001b[49m\u001b[38;5;241;43m=\u001b[39;49m\u001b[43mbody\u001b[49m\u001b[43m,\u001b[49m\u001b[43m \u001b[49m\u001b[43mheaders\u001b[49m\u001b[38;5;241;43m=\u001b[39;49m\u001b[43mheaders\u001b[49m\u001b[43m)\u001b[49m\n\u001b[0;32m    322\u001b[0m     statuscode \u001b[38;5;241m=\u001b[39m response\u001b[38;5;241m.\u001b[39mstatus\n\u001b[0;32m    323\u001b[0m \u001b[38;5;28;01melse\u001b[39;00m:\n",
      "File \u001b[1;32mc:\\Users\\Mateo\\AppData\\Local\\Programs\\Python\\Python310\\lib\\site-packages\\urllib3\\_request_methods.py:118\u001b[0m, in \u001b[0;36mRequestMethods.request\u001b[1;34m(self, method, url, body, fields, headers, json, **urlopen_kw)\u001b[0m\n\u001b[0;32m    110\u001b[0m     \u001b[38;5;28;01mreturn\u001b[39;00m \u001b[38;5;28mself\u001b[39m\u001b[38;5;241m.\u001b[39mrequest_encode_url(\n\u001b[0;32m    111\u001b[0m         method,\n\u001b[0;32m    112\u001b[0m         url,\n\u001b[1;32m   (...)\u001b[0m\n\u001b[0;32m    115\u001b[0m         \u001b[38;5;241m*\u001b[39m\u001b[38;5;241m*\u001b[39murlopen_kw,\n\u001b[0;32m    116\u001b[0m     )\n\u001b[0;32m    117\u001b[0m \u001b[38;5;28;01melse\u001b[39;00m:\n\u001b[1;32m--> 118\u001b[0m     \u001b[38;5;28;01mreturn\u001b[39;00m \u001b[38;5;28mself\u001b[39m\u001b[38;5;241m.\u001b[39mrequest_encode_body(\n\u001b[0;32m    119\u001b[0m         method, url, fields\u001b[38;5;241m=\u001b[39mfields, headers\u001b[38;5;241m=\u001b[39mheaders, \u001b[38;5;241m*\u001b[39m\u001b[38;5;241m*\u001b[39murlopen_kw\n\u001b[0;32m    120\u001b[0m     )\n",
      "File \u001b[1;32mc:\\Users\\Mateo\\AppData\\Local\\Programs\\Python\\Python310\\lib\\site-packages\\urllib3\\_request_methods.py:217\u001b[0m, in \u001b[0;36mRequestMethods.request_encode_body\u001b[1;34m(self, method, url, fields, headers, encode_multipart, multipart_boundary, **urlopen_kw)\u001b[0m\n\u001b[0;32m    213\u001b[0m     extra_kw[\u001b[38;5;124m\"\u001b[39m\u001b[38;5;124mheaders\u001b[39m\u001b[38;5;124m\"\u001b[39m]\u001b[38;5;241m.\u001b[39msetdefault(\u001b[38;5;124m\"\u001b[39m\u001b[38;5;124mContent-Type\u001b[39m\u001b[38;5;124m\"\u001b[39m, content_type)\n\u001b[0;32m    215\u001b[0m extra_kw\u001b[38;5;241m.\u001b[39mupdate(urlopen_kw)\n\u001b[1;32m--> 217\u001b[0m \u001b[38;5;28;01mreturn\u001b[39;00m \u001b[38;5;28mself\u001b[39m\u001b[38;5;241m.\u001b[39murlopen(method, url, \u001b[38;5;241m*\u001b[39m\u001b[38;5;241m*\u001b[39mextra_kw)\n",
      "File \u001b[1;32mc:\\Users\\Mateo\\AppData\\Local\\Programs\\Python\\Python310\\lib\\site-packages\\urllib3\\poolmanager.py:444\u001b[0m, in \u001b[0;36mPoolManager.urlopen\u001b[1;34m(self, method, url, redirect, **kw)\u001b[0m\n\u001b[0;32m    442\u001b[0m     response \u001b[38;5;241m=\u001b[39m conn\u001b[38;5;241m.\u001b[39murlopen(method, url, \u001b[38;5;241m*\u001b[39m\u001b[38;5;241m*\u001b[39mkw)\n\u001b[0;32m    443\u001b[0m \u001b[38;5;28;01melse\u001b[39;00m:\n\u001b[1;32m--> 444\u001b[0m     response \u001b[38;5;241m=\u001b[39m conn\u001b[38;5;241m.\u001b[39murlopen(method, u\u001b[38;5;241m.\u001b[39mrequest_uri, \u001b[38;5;241m*\u001b[39m\u001b[38;5;241m*\u001b[39mkw)\n\u001b[0;32m    446\u001b[0m redirect_location \u001b[38;5;241m=\u001b[39m redirect \u001b[38;5;129;01mand\u001b[39;00m response\u001b[38;5;241m.\u001b[39mget_redirect_location()\n\u001b[0;32m    447\u001b[0m \u001b[38;5;28;01mif\u001b[39;00m \u001b[38;5;129;01mnot\u001b[39;00m redirect_location:\n",
      "File \u001b[1;32mc:\\Users\\Mateo\\AppData\\Local\\Programs\\Python\\Python310\\lib\\site-packages\\urllib3\\connectionpool.py:790\u001b[0m, in \u001b[0;36mHTTPConnectionPool.urlopen\u001b[1;34m(self, method, url, body, headers, retries, redirect, assert_same_host, timeout, pool_timeout, release_conn, chunked, body_pos, preload_content, decode_content, **response_kw)\u001b[0m\n\u001b[0;32m    787\u001b[0m response_conn \u001b[38;5;241m=\u001b[39m conn \u001b[38;5;28;01mif\u001b[39;00m \u001b[38;5;129;01mnot\u001b[39;00m release_conn \u001b[38;5;28;01melse\u001b[39;00m \u001b[38;5;28;01mNone\u001b[39;00m\n\u001b[0;32m    789\u001b[0m \u001b[38;5;66;03m# Make the request on the HTTPConnection object\u001b[39;00m\n\u001b[1;32m--> 790\u001b[0m response \u001b[38;5;241m=\u001b[39m \u001b[38;5;28mself\u001b[39m\u001b[38;5;241m.\u001b[39m_make_request(\n\u001b[0;32m    791\u001b[0m     conn,\n\u001b[0;32m    792\u001b[0m     method,\n\u001b[0;32m    793\u001b[0m     url,\n\u001b[0;32m    794\u001b[0m     timeout\u001b[38;5;241m=\u001b[39mtimeout_obj,\n\u001b[0;32m    795\u001b[0m     body\u001b[38;5;241m=\u001b[39mbody,\n\u001b[0;32m    796\u001b[0m     headers\u001b[38;5;241m=\u001b[39mheaders,\n\u001b[0;32m    797\u001b[0m     chunked\u001b[38;5;241m=\u001b[39mchunked,\n\u001b[0;32m    798\u001b[0m     retries\u001b[38;5;241m=\u001b[39mretries,\n\u001b[0;32m    799\u001b[0m     response_conn\u001b[38;5;241m=\u001b[39mresponse_conn,\n\u001b[0;32m    800\u001b[0m     preload_content\u001b[38;5;241m=\u001b[39mpreload_content,\n\u001b[0;32m    801\u001b[0m     decode_content\u001b[38;5;241m=\u001b[39mdecode_content,\n\u001b[0;32m    802\u001b[0m     \u001b[38;5;241m*\u001b[39m\u001b[38;5;241m*\u001b[39mresponse_kw,\n\u001b[0;32m    803\u001b[0m )\n\u001b[0;32m    805\u001b[0m \u001b[38;5;66;03m# Everything went great!\u001b[39;00m\n\u001b[0;32m    806\u001b[0m clean_exit \u001b[38;5;241m=\u001b[39m \u001b[38;5;28;01mTrue\u001b[39;00m\n",
      "File \u001b[1;32mc:\\Users\\Mateo\\AppData\\Local\\Programs\\Python\\Python310\\lib\\site-packages\\urllib3\\connectionpool.py:536\u001b[0m, in \u001b[0;36mHTTPConnectionPool._make_request\u001b[1;34m(self, conn, method, url, body, headers, retries, timeout, chunked, response_conn, preload_content, decode_content, enforce_content_length)\u001b[0m\n\u001b[0;32m    534\u001b[0m \u001b[38;5;66;03m# Receive the response from the server\u001b[39;00m\n\u001b[0;32m    535\u001b[0m \u001b[38;5;28;01mtry\u001b[39;00m:\n\u001b[1;32m--> 536\u001b[0m     response \u001b[38;5;241m=\u001b[39m \u001b[43mconn\u001b[49m\u001b[38;5;241;43m.\u001b[39;49m\u001b[43mgetresponse\u001b[49m\u001b[43m(\u001b[49m\u001b[43m)\u001b[49m\n\u001b[0;32m    537\u001b[0m \u001b[38;5;28;01mexcept\u001b[39;00m (BaseSSLError, \u001b[38;5;167;01mOSError\u001b[39;00m) \u001b[38;5;28;01mas\u001b[39;00m e:\n\u001b[0;32m    538\u001b[0m     \u001b[38;5;28mself\u001b[39m\u001b[38;5;241m.\u001b[39m_raise_timeout(err\u001b[38;5;241m=\u001b[39me, url\u001b[38;5;241m=\u001b[39murl, timeout_value\u001b[38;5;241m=\u001b[39mread_timeout)\n",
      "File \u001b[1;32mc:\\Users\\Mateo\\AppData\\Local\\Programs\\Python\\Python310\\lib\\site-packages\\urllib3\\connection.py:461\u001b[0m, in \u001b[0;36mHTTPConnection.getresponse\u001b[1;34m(self)\u001b[0m\n\u001b[0;32m    458\u001b[0m \u001b[38;5;28;01mfrom\u001b[39;00m \u001b[38;5;21;01m.\u001b[39;00m\u001b[38;5;21;01mresponse\u001b[39;00m \u001b[38;5;28;01mimport\u001b[39;00m HTTPResponse\n\u001b[0;32m    460\u001b[0m \u001b[38;5;66;03m# Get the response from http.client.HTTPConnection\u001b[39;00m\n\u001b[1;32m--> 461\u001b[0m httplib_response \u001b[38;5;241m=\u001b[39m \u001b[38;5;28;43msuper\u001b[39;49m\u001b[43m(\u001b[49m\u001b[43m)\u001b[49m\u001b[38;5;241;43m.\u001b[39;49m\u001b[43mgetresponse\u001b[49m\u001b[43m(\u001b[49m\u001b[43m)\u001b[49m\n\u001b[0;32m    463\u001b[0m \u001b[38;5;28;01mtry\u001b[39;00m:\n\u001b[0;32m    464\u001b[0m     assert_header_parsing(httplib_response\u001b[38;5;241m.\u001b[39mmsg)\n",
      "File \u001b[1;32mc:\\Users\\Mateo\\AppData\\Local\\Programs\\Python\\Python310\\lib\\http\\client.py:1374\u001b[0m, in \u001b[0;36mHTTPConnection.getresponse\u001b[1;34m(self)\u001b[0m\n\u001b[0;32m   1372\u001b[0m \u001b[38;5;28;01mtry\u001b[39;00m:\n\u001b[0;32m   1373\u001b[0m     \u001b[38;5;28;01mtry\u001b[39;00m:\n\u001b[1;32m-> 1374\u001b[0m         \u001b[43mresponse\u001b[49m\u001b[38;5;241;43m.\u001b[39;49m\u001b[43mbegin\u001b[49m\u001b[43m(\u001b[49m\u001b[43m)\u001b[49m\n\u001b[0;32m   1375\u001b[0m     \u001b[38;5;28;01mexcept\u001b[39;00m \u001b[38;5;167;01mConnectionError\u001b[39;00m:\n\u001b[0;32m   1376\u001b[0m         \u001b[38;5;28mself\u001b[39m\u001b[38;5;241m.\u001b[39mclose()\n",
      "File \u001b[1;32mc:\\Users\\Mateo\\AppData\\Local\\Programs\\Python\\Python310\\lib\\http\\client.py:318\u001b[0m, in \u001b[0;36mHTTPResponse.begin\u001b[1;34m(self)\u001b[0m\n\u001b[0;32m    316\u001b[0m \u001b[38;5;66;03m# read until we get a non-100 response\u001b[39;00m\n\u001b[0;32m    317\u001b[0m \u001b[38;5;28;01mwhile\u001b[39;00m \u001b[38;5;28;01mTrue\u001b[39;00m:\n\u001b[1;32m--> 318\u001b[0m     version, status, reason \u001b[38;5;241m=\u001b[39m \u001b[38;5;28;43mself\u001b[39;49m\u001b[38;5;241;43m.\u001b[39;49m\u001b[43m_read_status\u001b[49m\u001b[43m(\u001b[49m\u001b[43m)\u001b[49m\n\u001b[0;32m    319\u001b[0m     \u001b[38;5;28;01mif\u001b[39;00m status \u001b[38;5;241m!=\u001b[39m CONTINUE:\n\u001b[0;32m    320\u001b[0m         \u001b[38;5;28;01mbreak\u001b[39;00m\n",
      "File \u001b[1;32mc:\\Users\\Mateo\\AppData\\Local\\Programs\\Python\\Python310\\lib\\http\\client.py:279\u001b[0m, in \u001b[0;36mHTTPResponse._read_status\u001b[1;34m(self)\u001b[0m\n\u001b[0;32m    278\u001b[0m \u001b[38;5;28;01mdef\u001b[39;00m \u001b[38;5;21m_read_status\u001b[39m(\u001b[38;5;28mself\u001b[39m):\n\u001b[1;32m--> 279\u001b[0m     line \u001b[38;5;241m=\u001b[39m \u001b[38;5;28mstr\u001b[39m(\u001b[38;5;28;43mself\u001b[39;49m\u001b[38;5;241;43m.\u001b[39;49m\u001b[43mfp\u001b[49m\u001b[38;5;241;43m.\u001b[39;49m\u001b[43mreadline\u001b[49m\u001b[43m(\u001b[49m\u001b[43m_MAXLINE\u001b[49m\u001b[43m \u001b[49m\u001b[38;5;241;43m+\u001b[39;49m\u001b[43m \u001b[49m\u001b[38;5;241;43m1\u001b[39;49m\u001b[43m)\u001b[49m, \u001b[38;5;124m\"\u001b[39m\u001b[38;5;124miso-8859-1\u001b[39m\u001b[38;5;124m\"\u001b[39m)\n\u001b[0;32m    280\u001b[0m     \u001b[38;5;28;01mif\u001b[39;00m \u001b[38;5;28mlen\u001b[39m(line) \u001b[38;5;241m>\u001b[39m _MAXLINE:\n\u001b[0;32m    281\u001b[0m         \u001b[38;5;28;01mraise\u001b[39;00m LineTooLong(\u001b[38;5;124m\"\u001b[39m\u001b[38;5;124mstatus line\u001b[39m\u001b[38;5;124m\"\u001b[39m)\n",
      "File \u001b[1;32mc:\\Users\\Mateo\\AppData\\Local\\Programs\\Python\\Python310\\lib\\socket.py:705\u001b[0m, in \u001b[0;36mSocketIO.readinto\u001b[1;34m(self, b)\u001b[0m\n\u001b[0;32m    703\u001b[0m \u001b[38;5;28;01mwhile\u001b[39;00m \u001b[38;5;28;01mTrue\u001b[39;00m:\n\u001b[0;32m    704\u001b[0m     \u001b[38;5;28;01mtry\u001b[39;00m:\n\u001b[1;32m--> 705\u001b[0m         \u001b[38;5;28;01mreturn\u001b[39;00m \u001b[38;5;28;43mself\u001b[39;49m\u001b[38;5;241;43m.\u001b[39;49m\u001b[43m_sock\u001b[49m\u001b[38;5;241;43m.\u001b[39;49m\u001b[43mrecv_into\u001b[49m\u001b[43m(\u001b[49m\u001b[43mb\u001b[49m\u001b[43m)\u001b[49m\n\u001b[0;32m    706\u001b[0m     \u001b[38;5;28;01mexcept\u001b[39;00m timeout:\n\u001b[0;32m    707\u001b[0m         \u001b[38;5;28mself\u001b[39m\u001b[38;5;241m.\u001b[39m_timeout_occurred \u001b[38;5;241m=\u001b[39m \u001b[38;5;28;01mTrue\u001b[39;00m\n",
      "\u001b[1;31mKeyboardInterrupt\u001b[0m: "
     ]
    }
   ],
   "source": [
    "import requests\n",
    "import time\n",
    "import os\n",
    "from datetime import datetime\n",
    "import pandas as pd\n",
    "\n",
    "# from sofascore import get_players_match_stats\n",
    "\n",
    "output_folder = r\"C:\\Users\\Mateo\\Desktop\\Soccer\\Futbol-R-Python-Quarto\\Python\\data\\output\\matches\"\n",
    "os.makedirs(output_folder, exist_ok=True)\n",
    "\n",
    "headers = {\n",
    "    \"User-Agent\": \"Mozilla/5.0 (Windows NT 10.0; Win64; x64) AppleWebKit/537.36 (KHTML, like Gecko) Chrome/132.0.0.0 Safari/537.36\",\n",
    "    \"Accept\": \"application/json, text/plain, */*\",\n",
    "    \"Cache-Control\": \"public, max-age=300\",\n",
    "    \"X-Client-Version\": \"production:9574079b5bff3c8ab725e1989963fb3121f67e2f-undefined\",\n",
    "    \"X-Mas\": \"eyJib2R5Ijp7InVybCI6Ii9hcGkvbWF0Y2hEZXRhaWxzP21hdGNoSWQ9NDUwNjk4MCZzaG93TmV3VWVmYUJyYWNrZXQ9dHJ1ZSIsImNvZGUiOjE3MzkxMTg5NzY1NTIsImZvbyI6InByb2R1Y3Rpb246OTU3NDA3OWI1YmZmM2M4YWI3MjVlMTk4OTk2M2ZiMzEyMWY2N2UyZi11bmRlZmluZWQifSwic2lnbmF0dXJlIjoiMDU5N0JGMEJCOENEMTUxQzJBQjY1MzlEMURCMUI4NjIifQ==\",\n",
    "}\n",
    "\n",
    "base_url = \"https://www.sofascore.com/api/v1/unique-tournament/11539/season/70681/events/round/\"\n",
    "round_num = 1\n",
    "\n",
    "while True:\n",
    "    url = base_url + str(round_num)\n",
    "    print(f\"\\n🔄 Procesando round {round_num}...\")\n",
    "    response = requests.get(url, headers=headers)\n",
    "\n",
    "    if response.status_code != 200:\n",
    "        print(f\"⚠️ Error HTTP en round {round_num}. Código: {response.status_code}\")\n",
    "        break\n",
    "\n",
    "    data = response.json()\n",
    "    events = data.get(\"events\", [])\n",
    "\n",
    "    if not events:\n",
    "        print(f\"✅ Fin del scraping. No hay más partidos en round {round_num}.\")\n",
    "        break\n",
    "\n",
    "    for event in events:\n",
    "        try:\n",
    "            match_id = event.get(\"id\")\n",
    "            custom_id = event.get(\"customId\")\n",
    "            slug = event.get(\"slug\")\n",
    "\n",
    "            if not all([match_id, custom_id, slug]):\n",
    "                continue\n",
    "\n",
    "            match_url = f\"https://www.sofascore.com/football/match/{slug}/{custom_id}#id:{match_id}\"\n",
    "            print(f\"➡️  Match: {slug}\")\n",
    "\n",
    "            stats_list = sofascore.get_players_match_stats(match_url)\n",
    "\n",
    "            if isinstance(stats_list, list) and len(stats_list) == 2:\n",
    "                df_local, df_visitante = stats_list\n",
    "\n",
    "                if isinstance(df_local, pd.DataFrame) and isinstance(df_visitante, pd.DataFrame):\n",
    "                    df_match = pd.concat([df_local, df_visitante], ignore_index=True)\n",
    "\n",
    "                    if not df_match.empty:\n",
    "                        fecha = datetime.now().strftime(\"%Y-%m-%d\")\n",
    "                        nombre_archivo = f\"match_{slug}_{fecha}.csv\"\n",
    "                        ruta_salida = os.path.join(output_folder, nombre_archivo)\n",
    "\n",
    "                        df_match.to_csv(ruta_salida, index=False, encoding=\"utf-8-sig\")\n",
    "                        print(f\"💾 Guardado: {nombre_archivo}\")\n",
    "                    else:\n",
    "                        print(f\"⚠️ Sin datos: {match_url}\")\n",
    "                else:\n",
    "                    print(f\"⚠️ Data malformada en: {match_url}\")\n",
    "            else:\n",
    "                print(f\"⚠️ No se encontraron stats para: {match_url}\")\n",
    "\n",
    "            time.sleep(2)\n",
    "\n",
    "        except Exception as e:\n",
    "            print(f\"❌ Error en partido {event.get('slug', 'sin_slug')}: {e}\")\n",
    "            continue\n",
    "\n",
    "    round_num += 1\n"
   ]
  }
 ],
 "metadata": {
  "kernelspec": {
   "display_name": ".venv",
   "language": "python",
   "name": "python3"
  },
  "language_info": {
   "codemirror_mode": {
    "name": "ipython",
    "version": 3
   },
   "file_extension": ".py",
   "mimetype": "text/x-python",
   "name": "python",
   "nbconvert_exporter": "python",
   "pygments_lexer": "ipython3",
   "version": "3.10.0"
  }
 },
 "nbformat": 4,
 "nbformat_minor": 5
}
